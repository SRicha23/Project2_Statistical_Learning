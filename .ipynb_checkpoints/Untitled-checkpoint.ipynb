{
 "cells": [
  {
   "cell_type": "markdown",
   "metadata": {},
   "source": [
    "# 1. Find the mean of old scheme and new scheme column. (5 points)"
   ]
  },
  {
   "cell_type": "code",
   "execution_count": 6,
   "metadata": {},
   "outputs": [],
   "source": [
    "from scipy.stats import norm\n",
    "import numpy as np\n",
    "import pandas as pd\n",
    "from scipy.stats import ttest_1samp, ttest_ind, mannwhitneyu, levene, shapiro,bartlett\n",
    "from statsmodels.stats.power import ttest_power"
   ]
  },
  {
   "cell_type": "code",
   "execution_count": 7,
   "metadata": {},
   "outputs": [],
   "source": [
    "titan=pd.read_csv(\"Titan.csv\")"
   ]
  },
  {
   "cell_type": "code",
   "execution_count": 8,
   "metadata": {},
   "outputs": [
    {
     "name": "stdout",
     "output_type": "stream",
     "text": [
      "The old scheme mean is:\n",
      "68.03333333333333\n",
      "The new scheme mean is:\n",
      "72.03333333333333\n"
     ]
    }
   ],
   "source": [
    "mean_old=titan['Old Scheme (in thousands)'].mean()\n",
    "mean_new=titan['New Scheme (in thousands)'].mean()\n",
    "print(\"The old scheme mean is:\")\n",
    "print(mean_old)\n",
    "print(\"The new scheme mean is:\")\n",
    "print(mean_new)"
   ]
  },
  {
   "cell_type": "markdown",
   "metadata": {},
   "source": [
    "# 2.Use the five percent significance test over the data to determine the p value to check new scheme has significantly raised outputs? (10 points)"
   ]
  },
  {
   "cell_type": "code",
   "execution_count": 9,
   "metadata": {},
   "outputs": [],
   "source": [
    "#H0=New scheme has significantly raised outputs\n",
    "#Ha=New scheme does not have significantly raised outputs\n",
    "old_scheme=titan['Old Scheme (in thousands)']\n",
    "new_scheme=titan['New Scheme (in thousands)']"
   ]
  },
  {
   "cell_type": "code",
   "execution_count": 10,
   "metadata": {},
   "outputs": [
    {
     "name": "stdout",
     "output_type": "stream",
     "text": [
      "(0.9885101914405823, 0.9813658595085144)\n",
      "(0.9687567353248596, 0.5057420134544373)\n"
     ]
    }
   ],
   "source": [
    "#Checking if data is normal using shapiro since there are only 30 samples\n",
    "print(shapiro(old_scheme))\n",
    "print(shapiro(new_scheme))"
   ]
  },
  {
   "cell_type": "code",
   "execution_count": 11,
   "metadata": {},
   "outputs": [
    {
     "data": {
      "text/plain": [
       "LeveneResult(statistic=1.063061539437244, pvalue=0.30679836081811235)"
      ]
     },
     "execution_count": 11,
     "metadata": {},
     "output_type": "execute_result"
    }
   ],
   "source": [
    "#Since the p-value in shapiro test is above 0.05 the data is normal\n",
    "#Checking if the two groups have equal variances we perform levene test\n",
    "levene(old_scheme,new_scheme)"
   ]
  },
  {
   "cell_type": "code",
   "execution_count": 12,
   "metadata": {},
   "outputs": [
    {
     "name": "stdout",
     "output_type": "stream",
     "text": [
      "-0.6937067608923764 0.49063515686248105\n"
     ]
    }
   ],
   "source": [
    "#Since the p-value in levene test is above 0.05 the variances of two groups are equal\n",
    "#We now perform non-paired parametric 1-sample independent test to determine the p-value\n",
    "t_statistic, p_value = ttest_ind(old_scheme,new_scheme)\n",
    "print(t_statistic, p_value)"
   ]
  },
  {
   "cell_type": "code",
   "execution_count": 13,
   "metadata": {},
   "outputs": [],
   "source": [
    "#Since the p-value is >0.05 we fail to reject H0 and hence the hypothesis that new scheme has significantly raised outputs holds true."
   ]
  },
  {
   "cell_type": "markdown",
   "metadata": {},
   "source": [
    "# 3.What conclusion does the test (p-value) lead to? (2.5 points)"
   ]
  },
  {
   "cell_type": "code",
   "execution_count": null,
   "metadata": {},
   "outputs": [],
   "source": [
    "#In the above scenario below is null and alternate hypothesis respectively\n",
    "#H0=New scheme has significantly raised outputs\n",
    "#Ha=New scheme has not significantly raised outputs\n",
    "#After all the tests we have got a p-value of 0.49 which is significantly greater than 0.05, which means that our null hypothesis holds true."
   ]
  },
  {
   "cell_type": "markdown",
   "metadata": {},
   "source": [
    "# 4. Suppose it has been calculated that in order for Titan to break even, the average output must increase by £5000 in the scheme compared to the old scheme. If this figure is alternative hypothesis, what is:\n",
    "# 1.The probability of a type 1 error? (2.5 points)\n",
    "# 2.What is the p- value of the hypothesis test if we test for a difference of $5000?(10 # points)\n",
    "# 3. Power of the test (5 points)\n"
   ]
  },
  {
   "cell_type": "code",
   "execution_count": null,
   "metadata": {},
   "outputs": [],
   "source": [
    "#1. The probability of type 1 error is 'alpha level' which we have set to 0.05 for this example.\n"
   ]
  },
  {
   "cell_type": "code",
   "execution_count": 14,
   "metadata": {},
   "outputs": [
    {
     "name": "stdout",
     "output_type": "stream",
     "text": [
      "(0.9885101914405823, 0.9813658595085144)\n",
      "(0.9687567353248596, 0.5057420134544373)\n"
     ]
    }
   ],
   "source": [
    "#2. p-value of hypothesis test if we test for a difference of £5000\n",
    "#H0=old_scheme - new_scheme is not equal to £5(in thousands)\n",
    "#Ha=old_scheme - new_scheme = £5(in thousands)\n",
    "#Checking if data is normal using shapiro since there are only 30 samples\n",
    "print(shapiro(old_scheme))\n",
    "print(shapiro(new_scheme))"
   ]
  },
  {
   "cell_type": "code",
   "execution_count": 15,
   "metadata": {},
   "outputs": [
    {
     "data": {
      "text/plain": [
       "LeveneResult(statistic=1.063061539437244, pvalue=0.30679836081811235)"
      ]
     },
     "execution_count": 15,
     "metadata": {},
     "output_type": "execute_result"
    }
   ],
   "source": [
    "#Since the p-value in shapiro test is above 0.05 the data is normal\n",
    "#Checking if the two groups have equal variances we perform levene test\n",
    "levene(old_scheme,new_scheme)"
   ]
  },
  {
   "cell_type": "code",
   "execution_count": 17,
   "metadata": {},
   "outputs": [
    {
     "name": "stdout",
     "output_type": "stream",
     "text": [
      "0.0015212146316676064\n"
     ]
    }
   ],
   "source": [
    "#Since the p-value in levene test is above 0.05 the variances of two groups are equal\n",
    "#We now perform paired parametric 1-sample test to determine the p-value\n",
    "t_statistic, p_value = ttest_1samp(old_scheme - new_scheme, 5)\n",
    "print(p_value)"
   ]
  },
  {
   "cell_type": "code",
   "execution_count": null,
   "metadata": {},
   "outputs": [],
   "source": [
    "#Since p-value is less than 0.05  for Ha, reject Ha. Which means that H0=old_scheme - new_scheme is not equal to £5(in thousands) holds true."
   ]
  },
  {
   "cell_type": "code",
   "execution_count": 18,
   "metadata": {},
   "outputs": [
    {
     "data": {
      "text/plain": [
       "404.4988888888889"
      ]
     },
     "execution_count": 18,
     "metadata": {},
     "output_type": "execute_result"
    }
   ],
   "source": [
    "np.std(old_scheme)**2"
   ]
  },
  {
   "cell_type": "code",
   "execution_count": 19,
   "metadata": {},
   "outputs": [
    {
     "data": {
      "text/plain": [
       "559.698888888889"
      ]
     },
     "execution_count": 19,
     "metadata": {},
     "output_type": "execute_result"
    }
   ],
   "source": [
    "np.std(new_scheme)**2"
   ]
  },
  {
   "cell_type": "code",
   "execution_count": 20,
   "metadata": {},
   "outputs": [
    {
     "data": {
      "text/plain": [
       "-0.12909555513169643"
      ]
     },
     "execution_count": 20,
     "metadata": {},
     "output_type": "execute_result"
    }
   ],
   "source": [
    "\n",
    "(np.mean(old_scheme) - np.mean(new_scheme)) / np.sqrt(((30-1)*np.var(old_scheme)+(30-1)*np.var(new_scheme)) / 30+30-2)"
   ]
  },
  {
   "cell_type": "code",
   "execution_count": 26,
   "metadata": {},
   "outputs": [
    {
     "name": "stdout",
     "output_type": "stream",
     "text": [
      "0.16592520924978782\n"
     ]
    }
   ],
   "source": [
    "#power of test\n",
    "print(ttest_power(-0.129, nobs=60, alpha=0.05, alternative='two-sided'))"
   ]
  },
  {
   "cell_type": "code",
   "execution_count": null,
   "metadata": {},
   "outputs": [],
   "source": []
  }
 ],
 "metadata": {
  "kernelspec": {
   "display_name": "Python 3",
   "language": "python",
   "name": "python3"
  },
  "language_info": {
   "codemirror_mode": {
    "name": "ipython",
    "version": 3
   },
   "file_extension": ".py",
   "mimetype": "text/x-python",
   "name": "python",
   "nbconvert_exporter": "python",
   "pygments_lexer": "ipython3",
   "version": "3.6.5"
  }
 },
 "nbformat": 4,
 "nbformat_minor": 2
}
